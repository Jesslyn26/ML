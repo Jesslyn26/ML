{
 "cells": [
  {
   "cell_type": "markdown",
   "metadata": {},
   "source": [
    "### References:\n",
    "* https://github.com/huggingface/transformers/blob/main/src/transformers/models/bert/modeling_bert.py\n",
    "* https://peterbloem.nl/blog/transformers\n",
    "* https://arxiv.org/pdf/1810.04805\n",
    "* https://www.kaggle.com/code/chayan8/sentiment-analysis-using-bert-pytorch\n",
    "* https://github.com/curiousily/Getting-Things-Done-with-Pytorch/blob/master/3D_photo_inpainting.ipynb -> helpful examples\n",
    "* https://pytorch.org/hub/huggingface_pytorch-transformers/\n",
    "* https://medium.com/data-and-beyond/complete-guide-to-building-bert-model-from-sratch-3e6562228891"
   ]
  },
  {
   "cell_type": "markdown",
   "metadata": {},
   "source": [
    "## 1. Installing new dependencies "
   ]
  },
  {
   "cell_type": "code",
   "execution_count": null,
   "metadata": {},
   "outputs": [],
   "source": [
    "! pip install transformers datasets\n",
    "! pip install pytorch-transformers\n",
    "! pip install pandas seaborn matplotlib numpy\n",
    "! pip install pytorch_lightning"
   ]
  },
  {
   "cell_type": "code",
   "execution_count": 7,
   "metadata": {},
   "outputs": [
    {
     "name": "stdout",
     "output_type": "stream",
     "text": [
      "Looking in indexes: https://pypi.org/simple, https://pypi.ngc.nvidia.com\n",
      "Requirement already satisfied: pytorch_lightning in c:\\users\\jessl\\miniconda3\\envs\\torch_gpu_env\\lib\\site-packages (2.3.3)\n",
      "Requirement already satisfied: numpy>=1.17.2 in c:\\users\\jessl\\miniconda3\\envs\\torch_gpu_env\\lib\\site-packages (from pytorch_lightning) (1.24.3)\n",
      "Requirement already satisfied: torch>=2.0.0 in c:\\users\\jessl\\miniconda3\\envs\\torch_gpu_env\\lib\\site-packages (from pytorch_lightning) (2.3.1)\n",
      "Requirement already satisfied: tqdm>=4.57.0 in c:\\users\\jessl\\miniconda3\\envs\\torch_gpu_env\\lib\\site-packages (from pytorch_lightning) (4.66.4)\n",
      "Requirement already satisfied: PyYAML>=5.4 in c:\\users\\jessl\\miniconda3\\envs\\torch_gpu_env\\lib\\site-packages (from pytorch_lightning) (6.0.1)\n",
      "Requirement already satisfied: fsspec>=2022.5.0 in c:\\users\\jessl\\miniconda3\\envs\\torch_gpu_env\\lib\\site-packages (from fsspec[http]>=2022.5.0->pytorch_lightning) (2024.3.1)\n",
      "Requirement already satisfied: torchmetrics>=0.7.0 in c:\\users\\jessl\\miniconda3\\envs\\torch_gpu_env\\lib\\site-packages (from pytorch_lightning) (1.4.0.post0)\n",
      "Requirement already satisfied: packaging>=20.0 in c:\\users\\jessl\\miniconda3\\envs\\torch_gpu_env\\lib\\site-packages (from pytorch_lightning) (24.0)\n",
      "Requirement already satisfied: typing-extensions>=4.4.0 in c:\\users\\jessl\\miniconda3\\envs\\torch_gpu_env\\lib\\site-packages (from pytorch_lightning) (4.11.0)\n",
      "Requirement already satisfied: lightning-utilities>=0.10.0 in c:\\users\\jessl\\miniconda3\\envs\\torch_gpu_env\\lib\\site-packages (from pytorch_lightning) (0.11.6)\n",
      "Requirement already satisfied: aiohttp!=4.0.0a0,!=4.0.0a1 in c:\\users\\jessl\\miniconda3\\envs\\torch_gpu_env\\lib\\site-packages (from fsspec[http]>=2022.5.0->pytorch_lightning) (3.9.5)\n",
      "Requirement already satisfied: setuptools in c:\\users\\jessl\\miniconda3\\envs\\torch_gpu_env\\lib\\site-packages (from lightning-utilities>=0.10.0->pytorch_lightning) (69.5.1)\n",
      "Requirement already satisfied: filelock in c:\\users\\jessl\\miniconda3\\envs\\torch_gpu_env\\lib\\site-packages (from torch>=2.0.0->pytorch_lightning) (3.13.1)\n",
      "Requirement already satisfied: sympy in c:\\users\\jessl\\miniconda3\\envs\\torch_gpu_env\\lib\\site-packages (from torch>=2.0.0->pytorch_lightning) (1.12)\n",
      "Requirement already satisfied: networkx in c:\\users\\jessl\\miniconda3\\envs\\torch_gpu_env\\lib\\site-packages (from torch>=2.0.0->pytorch_lightning) (3.2.1)\n",
      "Requirement already satisfied: jinja2 in c:\\users\\jessl\\miniconda3\\envs\\torch_gpu_env\\lib\\site-packages (from torch>=2.0.0->pytorch_lightning) (3.1.4)\n",
      "Requirement already satisfied: mkl<=2021.4.0,>=2021.1.1 in c:\\users\\jessl\\miniconda3\\envs\\torch_gpu_env\\lib\\site-packages (from torch>=2.0.0->pytorch_lightning) (2021.4.0)\n",
      "Requirement already satisfied: colorama in c:\\users\\jessl\\miniconda3\\envs\\torch_gpu_env\\lib\\site-packages (from tqdm>=4.57.0->pytorch_lightning) (0.4.6)\n",
      "Requirement already satisfied: aiosignal>=1.1.2 in c:\\users\\jessl\\miniconda3\\envs\\torch_gpu_env\\lib\\site-packages (from aiohttp!=4.0.0a0,!=4.0.0a1->fsspec[http]>=2022.5.0->pytorch_lightning) (1.3.1)\n",
      "Requirement already satisfied: attrs>=17.3.0 in c:\\users\\jessl\\miniconda3\\envs\\torch_gpu_env\\lib\\site-packages (from aiohttp!=4.0.0a0,!=4.0.0a1->fsspec[http]>=2022.5.0->pytorch_lightning) (23.2.0)\n",
      "Requirement already satisfied: frozenlist>=1.1.1 in c:\\users\\jessl\\miniconda3\\envs\\torch_gpu_env\\lib\\site-packages (from aiohttp!=4.0.0a0,!=4.0.0a1->fsspec[http]>=2022.5.0->pytorch_lightning) (1.4.1)\n",
      "Requirement already satisfied: multidict<7.0,>=4.5 in c:\\users\\jessl\\miniconda3\\envs\\torch_gpu_env\\lib\\site-packages (from aiohttp!=4.0.0a0,!=4.0.0a1->fsspec[http]>=2022.5.0->pytorch_lightning) (6.0.5)\n",
      "Requirement already satisfied: yarl<2.0,>=1.0 in c:\\users\\jessl\\miniconda3\\envs\\torch_gpu_env\\lib\\site-packages (from aiohttp!=4.0.0a0,!=4.0.0a1->fsspec[http]>=2022.5.0->pytorch_lightning) (1.9.4)\n",
      "Requirement already satisfied: async-timeout<5.0,>=4.0 in c:\\users\\jessl\\miniconda3\\envs\\torch_gpu_env\\lib\\site-packages (from aiohttp!=4.0.0a0,!=4.0.0a1->fsspec[http]>=2022.5.0->pytorch_lightning) (4.0.3)\n",
      "Requirement already satisfied: intel-openmp==2021.* in c:\\users\\jessl\\miniconda3\\envs\\torch_gpu_env\\lib\\site-packages (from mkl<=2021.4.0,>=2021.1.1->torch>=2.0.0->pytorch_lightning) (2021.4.0)\n",
      "Requirement already satisfied: tbb==2021.* in c:\\users\\jessl\\miniconda3\\envs\\torch_gpu_env\\lib\\site-packages (from mkl<=2021.4.0,>=2021.1.1->torch>=2.0.0->pytorch_lightning) (2021.12.0)\n",
      "Requirement already satisfied: MarkupSafe>=2.0 in c:\\users\\jessl\\miniconda3\\envs\\torch_gpu_env\\lib\\site-packages (from jinja2->torch>=2.0.0->pytorch_lightning) (2.1.3)\n",
      "Requirement already satisfied: mpmath>=0.19 in c:\\users\\jessl\\miniconda3\\envs\\torch_gpu_env\\lib\\site-packages (from sympy->torch>=2.0.0->pytorch_lightning) (1.3.0)\n",
      "Requirement already satisfied: idna>=2.0 in c:\\users\\jessl\\miniconda3\\envs\\torch_gpu_env\\lib\\site-packages (from yarl<2.0,>=1.0->aiohttp!=4.0.0a0,!=4.0.0a1->fsspec[http]>=2022.5.0->pytorch_lightning) (3.7)\n"
     ]
    }
   ],
   "source": [
    "! pip install pytorch_lightning\n"
   ]
  },
  {
   "cell_type": "markdown",
   "metadata": {},
   "source": [
    "## 2. Importing Libraries and Load Data"
   ]
  },
  {
   "cell_type": "code",
   "execution_count": 2,
   "metadata": {},
   "outputs": [],
   "source": [
    "import pandas as pd\n",
    "import numpy as np\n",
    "\n",
    "from tqdm.auto import tqdm\n",
    "\n",
    "import torch\n",
    "import torch.nn as nn\n",
    "from torch.utils.data import Dataset, DataLoader\n",
    "from transformers import BertTokenizerFast as BertTokenizer, BertModel, AdamW, get_linear_schedule_with_warmup\n",
    "\n",
    "import pytorch_lightning as pl\n",
    "from torchmetrics.classification import Accuracy, F1Score, AUROC\n",
    "from pytorch_lightning.callbacks import ModelCheckpoint, EarlyStopping\n",
    "from pytorch_lightning.loggers import TensorBoardLogger\n",
    "\n",
    "from sklearn.metrics import classification_report, multilabel_confusion_matrix\n",
    "\n",
    "import seaborn as sns\n",
    "from pylab import rcParams\n",
    "import matplotlib.pyplot as plt\n",
    "from matplotlib import rc\n",
    "\n",
    "# import libraries\n",
    "from datasets import load_dataset\n",
    "from transformers import BertTokenizer, BertForSequenceClassification, Trainer, TrainingArguments, AutoTokenizer\n",
    "from torch.utils.data import TensorDataset\n",
    "import seaborn as sns\n",
    "from torch.utils.data import DataLoader, TensorDataset\n",
    "from torch import nn, optim\n",
    "import torchvision.transforms as transforms\n",
    "\n"
   ]
  },
  {
   "cell_type": "code",
   "execution_count": 3,
   "metadata": {},
   "outputs": [
    {
     "name": "stderr",
     "output_type": "stream",
     "text": [
      "Seed set to 42\n"
     ]
    },
    {
     "data": {
      "text/plain": [
       "42"
      ]
     },
     "execution_count": 3,
     "metadata": {},
     "output_type": "execute_result"
    }
   ],
   "source": [
    "RANDOM_SEED = 42\n",
    "\n",
    "sns.set(style='whitegrid', palette='muted', font_scale=1.2)\n",
    "HAPPY_COLORS_PALETTE = [\"#01BEFE\", \"#FFDD00\", \"#FF7D00\", \"#FF006D\", \"#ADFF02\", \"#8F00FF\"]\n",
    "sns.set_palette(sns.color_palette(HAPPY_COLORS_PALETTE))\n",
    "rcParams['figure.figsize'] = 12, 8\n",
    "\n",
    "pl.seed_everything(RANDOM_SEED)"
   ]
  },
  {
   "cell_type": "code",
   "execution_count": 4,
   "metadata": {},
   "outputs": [
    {
     "name": "stdout",
     "output_type": "stream",
     "text": [
      "DatasetDict({\n",
      "    train: Dataset({\n",
      "        features: ['text', 'labels', 'id'],\n",
      "        num_rows: 43410\n",
      "    })\n",
      "    validation: Dataset({\n",
      "        features: ['text', 'labels', 'id'],\n",
      "        num_rows: 5426\n",
      "    })\n",
      "    test: Dataset({\n",
      "        features: ['text', 'labels', 'id'],\n",
      "        num_rows: 5427\n",
      "    })\n",
      "})\n",
      "                                                text labels       id\n",
      "0  My favourite food is anything I didn't have to...   [27]  eebbqej\n",
      "1  Now if he does off himself, everyone will thin...   [27]  ed00q6i\n",
      "2                     WHY THE FUCK IS BAYLESS ISOING    [2]  eezlygj\n",
      "3                        To make her feel threatened   [14]  ed7ypvh\n",
      "4                             Dirty Southern Wankers    [3]  ed0bdzj\n",
      "Train dataset's shape: (43410, 3)\n",
      "Validation dataset's shape: (5426, 3)\n",
      "Test dataset's shape: (5427, 3)\n"
     ]
    }
   ],
   "source": [
    "# Load the GoEmotions dataset\n",
    "datasets = load_dataset(\"go_emotions\")\n",
    "\n",
    "# Print some information about the dataset\n",
    "print(datasets)\n",
    "train_df = pd.DataFrame(datasets['train'])\n",
    "print(train_df.head())\n",
    "\n",
    "print(\"Train dataset's shape:\",datasets['train'].shape)\n",
    "print(\"Validation dataset's shape:\",datasets['validation'].shape)\n",
    "print(\"Test dataset's shape:\",datasets['test'].shape)\n"
   ]
  },
  {
   "cell_type": "code",
   "execution_count": 5,
   "metadata": {},
   "outputs": [
    {
     "name": "stdout",
     "output_type": "stream",
     "text": [
      "CUDA is available. GPU detected.\n",
      "Number of GPUs: 1\n",
      "GPU 0: NVIDIA GeForce RTX 3060 Laptop GPU\n",
      "Properties of GPU 0: _CudaDeviceProperties(name='NVIDIA GeForce RTX 3060 Laptop GPU', major=8, minor=6, total_memory=6143MB, multi_processor_count=30)\n"
     ]
    }
   ],
   "source": [
    "# OPTIONAL\n",
    "# checking if my GPU is ready to be used for training\n",
    "\n",
    "gpu_available = torch.cuda.is_available()\n",
    "\n",
    "if gpu_available:\n",
    "    print(\"CUDA is available. GPU detected.\")\n",
    "    # Get the number of GPUs\n",
    "    num_gpus = torch.cuda.device_count()\n",
    "    print(f\"Number of GPUs: {num_gpus}\")\n",
    "    # Print details about each GPU\n",
    "    for i in range(num_gpus):\n",
    "        gpu_name = torch.cuda.get_device_name(i)\n",
    "        print(f\"GPU {i}: {gpu_name}\")\n",
    "        gpu_properties = torch.cuda.get_device_properties(i)\n",
    "        print(f\"Properties of GPU {i}: {gpu_properties}\")\n",
    "else:\n",
    "    print(\"CUDA is not available. No GPU detected.\")"
   ]
  },
  {
   "cell_type": "code",
   "execution_count": null,
   "metadata": {},
   "outputs": [],
   "source": []
  },
  {
   "cell_type": "markdown",
   "metadata": {},
   "source": [
    "## 3. Preprocessing and training BERT\n",
    "### Overview steps:\n",
    "1. Encoding label into hot encoders \n",
    "2. Convert dataframe dictionary into dataframe using pandas\n",
    "3. Import BERT tokenizer to tokenize/encode the text \n",
    "5. Created tensor dataset with input ids (originally text), attention masks (from tokenizer/encoder), and label tensors (originally labels) \n",
    "6. Importing pre-trained pretrained BERT model to train machine\n",
    "7. Creatin optimizer and scheduler for training \n",
    "8. Setting up and checking GPU for training\n",
    "9. Train model and evaluate every epoch"
   ]
  },
  {
   "cell_type": "markdown",
   "metadata": {},
   "source": [
    "### Tokenize and Encode\n",
    "#### Description:\n",
    "BERT model  "
   ]
  },
  {
   "cell_type": "code",
   "execution_count": 6,
   "metadata": {},
   "outputs": [],
   "source": [
    "# importing \n",
    "tokenizer = BertTokenizer.from_pretrained(\n",
    "    'bert-base-uncased',\n",
    "    do_lower_case=True\n",
    ")"
   ]
  },
  {
   "cell_type": "code",
   "execution_count": 7,
   "metadata": {},
   "outputs": [],
   "source": [
    "# implementing data augumentation \n",
    "from nltk.corpus import wordnet\n",
    "import random\n",
    "\n",
    "def synonym_replacement(text):\n",
    "    \n",
    "    words = text.split()\n",
    "    new_words = []\n",
    "    for word in words:\n",
    "        synonyms = wordnet.synsets(word)\n",
    "        if synonyms:\n",
    "            synonym = random.choice(synonyms).lemmas()[0].name()\n",
    "            new_words.append(synonym)\n",
    "        else:\n",
    "            new_words.append(word)\n",
    "    return ' '.join(new_words)"
   ]
  },
  {
   "cell_type": "code",
   "execution_count": 8,
   "metadata": {},
   "outputs": [],
   "source": [
    "df_train = pd.DataFrame(datasets['train'])\n",
    "df_validation = pd.DataFrame(datasets['validation'])\n",
    "df_test = pd.DataFrame(datasets['test'])\n",
    "\n",
    "# print(df_train['labels'])"
   ]
  },
  {
   "cell_type": "code",
   "execution_count": 9,
   "metadata": {},
   "outputs": [
    {
     "name": "stdout",
     "output_type": "stream",
     "text": [
      "\n",
      "Train Labels:\n",
      " 0        ythi favourite to myself food 't i cook did ha...\n",
      "1        himself will if g ow everyo k screwi i off a s...\n",
      "2                           why isoi fuck the bayless g is\n",
      "3                              her to ed make threate feel\n",
      "4                                    kers souther dirty wa\n",
      "                               ...                        \n",
      "43405    hu aspect i’ve game well g what happily the i ...\n",
      "43406    ythi always to it was fu y refere ce g a but i...\n",
      "43407    ed [ ly good talki g that bad about what ythi ...\n",
      "43408                sexy baptism results with a like more\n",
      "43409                                       joy the ride e\n",
      "Name: clean_text, Length: 43410, dtype: object\n",
      "\n",
      "Train Labels Tensor:\n",
      " tensor([[0., 0., 0.,  ..., 0., 0., 1.],\n",
      "        [0., 0., 0.,  ..., 0., 0., 1.],\n",
      "        [0., 0., 1.,  ..., 0., 0., 0.],\n",
      "        ...,\n",
      "        [0., 0., 0.,  ..., 0., 0., 0.],\n",
      "        [0., 0., 0.,  ..., 0., 0., 0.],\n",
      "        [0., 0., 0.,  ..., 0., 0., 0.]])\n",
      "\n",
      "Validation Labels Tensor:\n",
      " tensor([[0., 0., 0.,  ..., 0., 0., 1.],\n",
      "        [0., 0., 0.,  ..., 0., 0., 1.],\n",
      "        [0., 0., 0.,  ..., 1., 0., 0.],\n",
      "        ...,\n",
      "        [0., 0., 0.,  ..., 0., 0., 0.],\n",
      "        [0., 0., 0.,  ..., 0., 0., 0.],\n",
      "        [0., 0., 0.,  ..., 0., 0., 0.]])\n"
     ]
    }
   ],
   "source": [
    "import re\n",
    "\n",
    "\n",
    "type_of_emotion = datasets['train'].features['labels'].feature.names\n",
    "\n",
    "# Function to encode numeric labels to multi-hot vectors \n",
    "def encode_labels(labels):\n",
    "    encoding = [0] * len(type_of_emotion)\n",
    "    for label in labels:\n",
    "        encoding[label] = 1\n",
    "    return encoding\n",
    "\n",
    "def clean_text(text):\n",
    "    # Convert text to lowercase\n",
    "    sentences = re.sub(\"[.,!?-]\", '', text.lower()).split('n')  # filter '.', ',', '?', '!'\n",
    "    word_list = list(set(\" \".join(sentences).split()))\n",
    "    \n",
    "    return \" \".join(word_list)\n",
    "\n",
    "# Apply the encoding labels to the DataFrame\n",
    "df_train['encoded_labels'] = df_train['labels'].apply(encode_labels)\n",
    "df_validation['encoded_labels'] = df_validation['labels'].apply(encode_labels)\n",
    "#df_test['encoded_labels'] = df_test['labels'].apply(encode_labels)\n",
    "\n",
    "# Convert the labels to a list of lists\n",
    "labels_train_list = df_train['encoded_labels'].tolist()\n",
    "labels_validation_list = df_validation['encoded_labels'].tolist()\n",
    "#labels_test_list = df_test['encoded_labels'].tolist()\n",
    "\n",
    "# Convert to PyTorch tensors\n",
    "labels_train_tensor = torch.tensor(labels_train_list, dtype=torch.float32)\n",
    "labels_validation_tensor = torch.tensor(labels_validation_list, dtype=torch.float32)\n",
    "#labels_test_tensor = torch.tensor(labels_test_list, dtype=torch.float32)\n",
    "\n",
    "df_train['clean_text'] = df_train['text'].apply(clean_text)\n",
    "df_validation['clean_text'] = df_validation['text'].apply(clean_text)\n",
    "\n",
    "# Print the resulting tensor to ensure correctness\n",
    "print(\"\\nTrain Labels:\\n\", df_train['clean_text'])\n",
    "print(\"\\nTrain Labels Tensor:\\n\", labels_train_tensor)\n",
    "print(\"\\nValidation Labels Tensor:\\n\", labels_validation_tensor)\n",
    "#print(\"\\nTest Labels Tensor:\\n\", labels_test_tensor)\n",
    "\n"
   ]
  },
  {
   "cell_type": "code",
   "execution_count": 10,
   "metadata": {},
   "outputs": [
    {
     "name": "stderr",
     "output_type": "stream",
     "text": [
      "Truncation was not explicitly activated but `max_length` is provided a specific value, please use `truncation=True` to explicitly truncate examples to max length. Defaulting to 'longest_first' truncation strategy. If you encode pairs of sequences (GLUE-style) with the tokenizer you can select this strategy more precisely by providing a specific strategy to `truncation`.\n",
      "C:\\Users\\jessl\\AppData\\Local\\Temp\\ipykernel_43172\\2022630639.py:8: UserWarning: \n",
      "\n",
      "`distplot` is a deprecated function and will be removed in seaborn v0.14.0.\n",
      "\n",
      "Please adapt your code to use either `displot` (a figure-level function with\n",
      "similar flexibility) or `histplot` (an axes-level function for histograms).\n",
      "\n",
      "For a guide to updating your code to use the new functions, please see\n",
      "https://gist.github.com/mwaskom/de44147ed2974457ad6372750bbe5751\n",
      "\n",
      "  sns.distplot(token_lens)\n"
     ]
    },
    {
     "data": {
      "text/plain": [
       "Text(0.5, 0, 'Token count')"
      ]
     },
     "execution_count": 10,
     "metadata": {},
     "output_type": "execute_result"
    },
    {
     "data": {
      "image/png": "[encoded data removed]",
      "text/plain": [
       "<Figure size 1200x800 with 1 Axes>"
      ]
     },
     "metadata": {},
     "output_type": "display_data"
    }
   ],
   "source": [
    "token_lens = []\n",
    "\n",
    "for txt in df_train.text:\n",
    "  tokens = tokenizer.encode(txt, max_length=512)\n",
    "  token_lens.append(len(tokens))\n",
    "     \n",
    "\n",
    "sns.distplot(token_lens)\n",
    "plt.xlim([0, 256])\n",
    "plt.xlabel('Token count')"
   ]
  },
  {
   "cell_type": "code",
   "execution_count": 18,
   "metadata": {},
   "outputs": [
    {
     "name": "stdout",
     "output_type": "stream",
     "text": [
      "43410\n",
      "5426\n"
     ]
    }
   ],
   "source": [
    "import torch\n",
    "from torch.utils.data import Dataset\n",
    "from transformers import BertTokenizer\n",
    "\n",
    "# creating data loaders\n",
    "# batch size reference https://huggingface.co/docs/transformers/model_doc/bert\n",
    "from torch.utils.data import DataLoader, RandomSampler, SequentialSampler\n",
    "import torch.nn.functional as F \n",
    "\n",
    "# implementing data augumentation \n",
    "from nltk.corpus import wordnet\n",
    "import random\n",
    "\n",
    "def synonym_replacement(text):\n",
    "    \n",
    "    words = text.split()\n",
    "    new_words = []\n",
    "    for word in words:\n",
    "        synonyms = wordnet.synsets(word)\n",
    "        if synonyms:\n",
    "            synonym = random.choice(synonyms).lemmas()[0].name()\n",
    "            new_words.append(synonym)\n",
    "        else:\n",
    "            new_words.append(word)\n",
    "    return ' '.join(new_words)\n",
    "\n",
    "def random_insertion(text, n=2):\n",
    "    words = text.split()\n",
    "    for _ in range(n):\n",
    "        word = random.choice(words)\n",
    "        synonyms = wordnet.synsets(word)\n",
    "        if synonyms:\n",
    "            synonym = random.choice(synonyms).lemmas()[0].name()\n",
    "            insert_index = random.randint(0, len(words) - 1)\n",
    "            words.insert(insert_index, synonym)\n",
    "    return ' '.join(words)\n",
    "\n",
    "\n",
    "class AugmentedDataset(Dataset):\n",
    "    def __init__(self, texts, targets, tokenizer, max_len):\n",
    "        self.texts = texts\n",
    "        self.targets = targets\n",
    "        self.tokenizer = tokenizer\n",
    "        self.max_len = max_len\n",
    "        # Define how you want to apply augmentation\n",
    "        self.augment = lambda x: random.choice([synonym_replacement, random_insertion, random_deletion])(x)\n",
    "\n",
    "    def __len__(self):\n",
    "        return len(self.texts)\n",
    "\n",
    "    def __getitem__(self, idx):\n",
    "        text = self.texts[idx]\n",
    "        target = self.targets[idx]\n",
    "        augmented_text = self.augment(text)\n",
    "\n",
    "        encoding = self.tokenizer.encode_plus(\n",
    "            augmented_text,\n",
    "            add_special_tokens=True,\n",
    "            max_length=self.max_len,\n",
    "            padding='max_length',\n",
    "            return_attention_mask=True,\n",
    "            return_tensors='pt'\n",
    "        )\n",
    "\n",
    "        return {\n",
    "            'input_ids': encoding['input_ids'].flatten(),\n",
    "            'attention_mask': encoding['attention_mask'].flatten(),\n",
    "            'targets': torch.tensor(target, dtype=torch.float)\n",
    "        }\n",
    "\n",
    "class EvaluationDataset(Dataset):\n",
    "    def __init__(self, texts, targets, tokenizer, max_len):\n",
    "        self.texts = texts\n",
    "        self.targets = targets\n",
    "        self.tokenizer = tokenizer\n",
    "        self.max_len = max_len\n",
    "\n",
    "    def __len__(self):\n",
    "        return len(self.texts)\n",
    "\n",
    "    def __getitem__(self, item):\n",
    "        text = str(self.texts[item])\n",
    "        target = self.targets[item]\n",
    "\n",
    "        encoding = self.tokenizer.encode_plus(\n",
    "            text,\n",
    "            add_special_tokens=True,\n",
    "            max_length=self.max_len,\n",
    "            padding='max_length',\n",
    "            return_attention_mask=True,\n",
    "            return_tensors='pt',\n",
    "        )\n",
    "\n",
    "        return {\n",
    "            'text': text,\n",
    "            'input_ids': encoding['input_ids'].flatten(),\n",
    "            'attention_mask': encoding['attention_mask'].flatten(),\n",
    "            'targets': torch.tensor(target, dtype=torch.float)  # Assuming target is a list or numpy array\n",
    "        }\n",
    "\n",
    "targets = len(type_of_emotion)\n",
    "max_len = 64\n",
    "train_dataset = EvaluationDataset(df_train.text, df_train['encoded_labels'], tokenizer, max_len)\n",
    "evaluate_dataset = AugmentedDataset(df_validation.text, df_validation['encoded_labels'], tokenizer, max_len)\n",
    "\n",
    "print(len(train_dataset))\n",
    "print(len(evaluate_dataset))\n",
    "\n",
    "batch_size = 32\n",
    "\n",
    "\n",
    "dataloader_train = DataLoader(\n",
    "    train_dataset,\n",
    "    sampler=RandomSampler(train_dataset),\n",
    "    num_workers=4, # subprocesses to use for data loading\n",
    "    batch_size=batch_size,\n",
    "    pin_memory=True,  #data load will copy tensor to CUDA pinned memory before return (improve GPU stransfer speed)\n",
    "    prefetch_factor=2 # need google more\n",
    ")\n",
    "\n",
    "dataloader_val = DataLoader(\n",
    "    evaluate_dataset,\n",
    "    sampler=RandomSampler(evaluate_dataset),\n",
    "    batch_size=32,\n",
    "    num_workers=4, \n",
    "    pin_memory=True, \n",
    "    prefetch_factor=2\n",
    ")\n",
    "\n"
   ]
  },
  {
   "cell_type": "code",
   "execution_count": 11,
   "metadata": {},
   "outputs": [
    {
     "name": "stderr",
     "output_type": "stream",
     "text": [
      "c:\\Users\\jessl\\miniconda3\\envs\\torch_gpu_env\\lib\\site-packages\\transformers\\tokenization_utils_base.py:2699: FutureWarning: The `pad_to_max_length` argument is deprecated and will be removed in a future version, use `padding=True` or `padding='longest'` to pad to the longest sequence in the batch, or use `padding='max_length'` to pad to a max length. In this case, you can give a specific length with `max_length` (e.g. `max_length=45`) or leave max_length to None to pad to the maximal input size of the model (e.g. 512 for Bert).\n",
      "  warnings.warn(\n"
     ]
    }
   ],
   "source": [
    "encoded_data_train = tokenizer.batch_encode_plus(\n",
    "    df_train.clean_text.values,\n",
    "    add_special_tokens=True, # adding [CLS] and [SEP]\n",
    "    return_attention_mask=True, # change input to 1 with actual words and 0 to none\n",
    "    pad_to_max_length=True, \n",
    "    max_length=\t64,\n",
    "    return_token_type_ids=False, # length that is longer than max_length will be trucated\n",
    "    return_tensors='pt' # returning tensor in pytorch form\n",
    ")\n",
    "\n",
    "encoded_data_val = tokenizer.batch_encode_plus(\n",
    "    df_validation.clean_text.values,\n",
    "    add_special_tokens=True,\n",
    "    return_attention_mask=True,\n",
    "    pad_to_max_length=True,\n",
    "    max_length=\t64,\n",
    "    return_token_type_ids=False, \n",
    "    return_tensors='pt'\n",
    ")\n",
    "\n",
    "input_ids_train = encoded_data_train['input_ids']\n",
    "attention_masks_train = encoded_data_train['attention_mask']\n",
    "\n",
    "input_ids_val = encoded_data_val['input_ids']\n",
    "attention_masks_val = encoded_data_val['attention_mask']\n"
   ]
  },
  {
   "cell_type": "code",
   "execution_count": 74,
   "metadata": {},
   "outputs": [
    {
     "data": {
      "text/plain": [
       "(tensor([[  101,  1061, 15222,  ...,     0,     0,     0],\n",
       "         [  101,  4756,  2111,  ...,     0,     0,     0],\n",
       "         [  101, 11163,  2072,  ...,     0,     0,     0],\n",
       "         ...,\n",
       "         [  101,  2054,  2020,  ...,     0,     0,     0],\n",
       "         [  101,  7916,  2066,  ...,     0,     0,     0],\n",
       "         [  101,  1041,  1996,  ...,     0,     0,     0]]),\n",
       " tensor([[1, 1, 1,  ..., 0, 0, 0],\n",
       "         [1, 1, 1,  ..., 0, 0, 0],\n",
       "         [1, 1, 1,  ..., 0, 0, 0],\n",
       "         ...,\n",
       "         [1, 1, 1,  ..., 0, 0, 0],\n",
       "         [1, 1, 1,  ..., 0, 0, 0],\n",
       "         [1, 1, 1,  ..., 0, 0, 0]]),\n",
       " tensor([[0., 0., 0.,  ..., 0., 0., 1.],\n",
       "         [0., 0., 0.,  ..., 0., 0., 1.],\n",
       "         [0., 0., 1.,  ..., 0., 0., 0.],\n",
       "         ...,\n",
       "         [0., 0., 0.,  ..., 0., 0., 0.],\n",
       "         [0., 0., 0.,  ..., 0., 0., 0.],\n",
       "         [0., 0., 0.,  ..., 0., 0., 0.]]))"
      ]
     },
     "execution_count": 74,
     "metadata": {},
     "output_type": "execute_result"
    }
   ],
   "source": [
    "# turning each dataset into tensor dataset to be processed\n",
    "\n",
    "dataset_train = TensorDataset(input_ids_train, \n",
    "                              attention_masks_train,\n",
    "                              labels_train_tensor)\n",
    "\n",
    "dataset_val = TensorDataset(input_ids_val, \n",
    "                            attention_masks_val,\n",
    "                           labels_validation_tensor)\n",
    "\n",
    "dataset_train.tensors"
   ]
  },
  {
   "cell_type": "code",
   "execution_count": 10,
   "metadata": {},
   "outputs": [],
   "source": [
    "import torch\n",
    "import torch.nn as nn\n",
    "from transformers import BertModel\n",
    "import torch.nn.functional as F\n",
    "\n",
    "class CustomBERTModel(nn.Module):\n",
    "    def __init__(self, num_labels, hidden_size=512, dropout_rate=0.3):\n",
    "        super(CustomBERTModel, self).__init__()\n",
    "        self.bert = BertModel.from_pretrained('bert-base-uncased')\n",
    "        self.lstm = nn.LSTM(self.bert.config.hidden_size, hidden_size, batch_first=True, bidirectional=True)\n",
    "        self.layer_norm = nn.LayerNorm(hidden_size * 2)\n",
    "        self.dropout = nn.Dropout(dropout_rate)\n",
    "        self.classifier = nn.Sequential(\n",
    "            nn.Linear(hidden_size * 2, hidden_size),\n",
    "            nn.ReLU(),\n",
    "            nn.Dropout(dropout_rate),\n",
    "            nn.Linear(hidden_size, num_labels)\n",
    "        )\n",
    "\n",
    "    def forward(self, input_ids, attention_mask):\n",
    "        outputs = self.bert(input_ids=input_ids, attention_mask=attention_mask)\n",
    "        sequence_output = outputs[0]  # shape: (batch_size, sequence_length, hidden_size)\n",
    "        \n",
    "        lstm_output, _ = self.lstm(sequence_output)  # shape: (batch_size, sequence_length, hidden_size*2)\n",
    "        \n",
    "        # Use the mean of the LSTM output across the sequence length dimension\n",
    "        lstm_output_mean = torch.mean(lstm_output, dim=1)  # shape: (batch_size, hidden_size*2)\n",
    "        \n",
    "        lstm_output_mean = self.layer_norm(lstm_output_mean)  # shape: (batch_size, hidden_size*2)\n",
    "        lstm_output_mean = self.dropout(lstm_output_mean)  # shape: (batch_size, hidden_size*2)\n",
    "        \n",
    "        logits = self.classifier(lstm_output_mean)  # shape: (batch_size, num_labels)\n",
    "        probabilities = torch.sigmoid(logits)  # Use sigmoid for multi-label classification\n",
    "        \n",
    "        return logits, probabilities\n",
    "\n",
    "# Example initialization\n",
    "num_labels = len(type_of_emotion)\n",
    "device = torch.device(\"cuda\" if torch.cuda.is_available() else \"cpu\")\n",
    "model = CustomBERTModel(num_labels=num_labels, hidden_size=256).to(device)\n"
   ]
  },
  {
   "cell_type": "code",
   "execution_count": 86,
   "metadata": {},
   "outputs": [
    {
     "data": {
      "text/plain": [
       "\"model = BertForSequenceClassification.from_pretrained(\\n                                      'bert-base-uncased', \\n                                      num_labels = len(type_of_emotion),\\n                                      output_attentions = False,\\n                                      output_hidden_states = False\\n                                     )\""
      ]
     },
     "execution_count": 86,
     "metadata": {},
     "output_type": "execute_result"
    }
   ],
   "source": [
    "'''model = BertForSequenceClassification.from_pretrained(\n",
    "                                      'bert-base-uncased', \n",
    "                                      num_labels = len(type_of_emotion),\n",
    "                                      output_attentions = False,\n",
    "                                      output_hidden_states = False\n",
    "                                     )'''"
   ]
  },
  {
   "cell_type": "code",
   "execution_count": null,
   "metadata": {},
   "outputs": [],
   "source": [
    "# creating data loaders\n",
    "# batch size reference https://huggingface.co/docs/transformers/model_doc/bert\n",
    "from torch.utils.data import DataLoader, RandomSampler, SequentialSampler\n",
    "import torch.nn.functional as F \n",
    "\n",
    "batch_size = 32\n",
    "\n",
    "\n",
    "dataloader_train = DataLoader(\n",
    "    train_dataset,\n",
    "    sampler=RandomSampler(train_dataset),\n",
    "    num_workers=4, # subprocesses to use for data loading\n",
    "    batch_size=batch_size,\n",
    "    pin_memory=True,  #data load will copy tensor to CUDA pinned memory before return (improve GPU stransfer speed)\n",
    "    prefetch_factor=2 # need google more\n",
    ")\n",
    "\n",
    "dataloader_val = DataLoader(\n",
    "    dataset_val,\n",
    "    sampler=RandomSampler(dataset_val),\n",
    "    batch_size=32,\n",
    "    num_workers=4, \n",
    "    pin_memory=True, \n",
    "    prefetch_factor=2\n",
    ")"
   ]
  },
  {
   "cell_type": "code",
   "execution_count": 11,
   "metadata": {},
   "outputs": [
    {
     "name": "stderr",
     "output_type": "stream",
     "text": [
      "c:\\Users\\jessl\\miniconda3\\envs\\torch_gpu_env\\lib\\site-packages\\transformers\\optimization.py:588: FutureWarning: This implementation of AdamW is deprecated and will be removed in a future version. Use the PyTorch implementation torch.optim.AdamW instead, or set `no_deprecation_warning=True` to disable this warning\n",
      "  warnings.warn(\n",
      "c:\\Users\\jessl\\miniconda3\\envs\\torch_gpu_env\\lib\\site-packages\\torch\\optim\\lr_scheduler.py:28: UserWarning: The verbose parameter is deprecated. Please use get_last_lr() to access the learning rate.\n",
      "  warnings.warn(\"The verbose parameter is deprecated. Please use get_last_lr() \"\n"
     ]
    }
   ],
   "source": [
    "from transformers import AdamW, get_linear_schedule_with_warmup\n",
    "from torch.cuda.amp import GradScaler\n",
    "from torch.optim.lr_scheduler import ReduceLROnPlateau\n",
    "\n",
    "# optimizer type: \n",
    "# Stochastic Gradient Descent (SGD): The basic optimization algorithm that updates parameters based on the gradient of the loss function.\n",
    "# Adam: A popular variant of SGD that combines adaptive learning rates with momentum.\n",
    "# AdamW: A variant of Adam that also incorporates weight decay to prevent overfitting.\n",
    "# Adagrad: Adapts the learning rate for each parameter based on the historical gradient information.\n",
    "# RMSprop: Root Mean Square Propagation, similar to Adagrad but with an exponentially decaying average of squared gradients.\n",
    "\n",
    "\n",
    "model = CustomBERTModel(num_labels = len(type_of_emotion))\n",
    "\n",
    "optimizer = AdamW(\n",
    "    model.parameters(), # optimizing model\n",
    "    lr = 1e-5 ,\n",
    "    eps = 1e-8, # need a further verification\n",
    "    \n",
    ")\n",
    "\n",
    "\n",
    "\n",
    "scaler= GradScaler()\n",
    "\n",
    "\n",
    "# Scheduler: a learning rate schediler that adjust learning rate during training to improve performance\n",
    "# type of scheduler:\n",
    "# StepLR: decreases the learning rate by a factor of the fized number of epochs\n",
    "# MultiStepLR: similar to StepLR but allows specifying multicle milestones for decreasing learning rate\n",
    "# ExponentialLR: decays the learning rate expotentially over time\n",
    "# Reduce LROnPlateau: decrease learning rate when specific metric stops improving -\n",
    "# CosineAnnealingLR: gradually decreases the learning rate base on cosine\n",
    "# Linear Warmup: linearly increases the learning rate from zero to the specified value over warmup period -\n",
    "\n",
    "scheduler = ReduceLROnPlateau(optimizer, mode='min', factor=0.1, patience=2, verbose=True)\n",
    "\n"
   ]
  },
  {
   "cell_type": "code",
   "execution_count": 12,
   "metadata": {},
   "outputs": [
    {
     "name": "stdout",
     "output_type": "stream",
     "text": [
      "GPU Usage: 0%\n"
     ]
    }
   ],
   "source": [
    "import subprocess\n",
    "import torch\n",
    "\n",
    "def get_gpu_usage():\n",
    "    try:\n",
    "        result = subprocess.run(['nvidia-smi', '--query-gpu=utilization.gpu', '--format=csv,noheader,nounits'], stdout=subprocess.PIPE)\n",
    "        gpu_usage = int(result.stdout.decode('utf-8').strip())\n",
    "        return gpu_usage\n",
    "    except Exception as e:\n",
    "        print(f\"Error: {e}\")\n",
    "        return None\n",
    "\n",
    "if __name__ == \"__main__\":\n",
    "    gpu_usage = get_gpu_usage()\n",
    "    if gpu_usage is not None:\n",
    "        print(f\"GPU Usage: {gpu_usage}%\")\n",
    "    else:\n",
    "        print(\"Failed to retrieve GPU usage.\")\n",
    "\n",
    "torch.cuda.empty_cache()\n",
    "\n"
   ]
  },
  {
   "cell_type": "code",
   "execution_count": 13,
   "metadata": {},
   "outputs": [
    {
     "name": "stdout",
     "output_type": "stream",
     "text": [
      "cuda\n",
      "CustomBERTModel(\n",
      "  (bert): BertModel(\n",
      "    (embeddings): BertEmbeddings(\n",
      "      (word_embeddings): Embedding(30522, 768, padding_idx=0)\n",
      "      (position_embeddings): Embedding(512, 768)\n",
      "      (token_type_embeddings): Embedding(2, 768)\n",
      "      (LayerNorm): LayerNorm((768,), eps=1e-12, elementwise_affine=True)\n",
      "      (dropout): Dropout(p=0.1, inplace=False)\n",
      "    )\n",
      "    (encoder): BertEncoder(\n",
      "      (layer): ModuleList(\n",
      "        (0-11): 12 x BertLayer(\n",
      "          (attention): BertAttention(\n",
      "            (self): BertSdpaSelfAttention(\n",
      "              (query): Linear(in_features=768, out_features=768, bias=True)\n",
      "              (key): Linear(in_features=768, out_features=768, bias=True)\n",
      "              (value): Linear(in_features=768, out_features=768, bias=True)\n",
      "              (dropout): Dropout(p=0.1, inplace=False)\n",
      "            )\n",
      "            (output): BertSelfOutput(\n",
      "              (dense): Linear(in_features=768, out_features=768, bias=True)\n",
      "              (LayerNorm): LayerNorm((768,), eps=1e-12, elementwise_affine=True)\n",
      "              (dropout): Dropout(p=0.1, inplace=False)\n",
      "            )\n",
      "          )\n",
      "          (intermediate): BertIntermediate(\n",
      "            (dense): Linear(in_features=768, out_features=3072, bias=True)\n",
      "            (intermediate_act_fn): GELUActivation()\n",
      "          )\n",
      "          (output): BertOutput(\n",
      "            (dense): Linear(in_features=3072, out_features=768, bias=True)\n",
      "            (LayerNorm): LayerNorm((768,), eps=1e-12, elementwise_affine=True)\n",
      "            (dropout): Dropout(p=0.1, inplace=False)\n",
      "          )\n",
      "        )\n",
      "      )\n",
      "    )\n",
      "    (pooler): BertPooler(\n",
      "      (dense): Linear(in_features=768, out_features=768, bias=True)\n",
      "      (activation): Tanh()\n",
      "    )\n",
      "  )\n",
      "  (lstm): LSTM(768, 512, batch_first=True, bidirectional=True)\n",
      "  (layer_norm): LayerNorm((1024,), eps=1e-05, elementwise_affine=True)\n",
      "  (dropout): Dropout(p=0.3, inplace=False)\n",
      "  (classifier): Sequential(\n",
      "    (0): Linear(in_features=1024, out_features=512, bias=True)\n",
      "    (1): ReLU()\n",
      "    (2): Dropout(p=0.3, inplace=False)\n",
      "    (3): Linear(in_features=512, out_features=28, bias=True)\n",
      "  )\n",
      ")\n"
     ]
    }
   ],
   "source": [
    "import random\n",
    "\n",
    "\n",
    "torch.cuda.empty_cache()\n",
    "\n",
    "# seeding / setting seeds for various random number to ensure that the result is the same\n",
    "seed_val = 17\n",
    "random.seed(seed_val) # sets seed for python's build in libraries\n",
    "np.random.seed(seed_val) # set seeds for numpy random generator\n",
    "torch.manual_seed(seed_val) # sets seed for pytorch CPU operations\n",
    "torch.cuda.manual_seed_all(seed_val) # set seeds for CUDA operation\n",
    "\n",
    "device = torch.device('cuda' if torch.cuda.is_available() else 'cpu')\n",
    "model = model.cuda()\n",
    "print(device)\n",
    "print(model)"
   ]
  },
  {
   "cell_type": "code",
   "execution_count": 14,
   "metadata": {},
   "outputs": [],
   "source": [
    "from tqdm import tqdm\n",
    "import numpy as np\n",
    "\n",
    "def evaluate(dataloader_val):\n",
    "    model.eval()  # sets model to evaluation mode, no dropout and batch normalization layer\n",
    "    \n",
    "    loss_val_total = 0\n",
    "    predictions, true_vals = [], []  # to store predictions and true labels\n",
    "\n",
    "    \n",
    "    for batch in tqdm(dataloader_val):  # iterate over batches of data in validation loader\n",
    "        \n",
    "        batch = tuple(b.to(device) for b in batch)  # move batch tensors to the appropriate device\n",
    "        \n",
    "        # prepare model inputs tensors \n",
    "        input_ids = batch[0]\n",
    "        attention_mask = batch[1]\n",
    "        labels = batch[2]\n",
    "        \n",
    "        # forward pass\n",
    "        # performing forward pass without gradient computation\n",
    "        with torch.no_grad():       \n",
    "            # passing input tensors to the model and obtain the outputs (loss and logits - raw output scores) \n",
    "            logits, probabilities = model(input_ids=input_ids, attention_mask=attention_mask)\n",
    "            loss = F.cross_entropy(logits, labels)\n",
    "            \n",
    "            # calculate raw values \n",
    "            loss_val_total += loss.item()\n",
    "\n",
    "            # processing predictions and true labels            \n",
    "            logits = logits.detach().cpu().numpy() # detach logits from computational graph -> to CPU -> to numpy array\n",
    "            label_ids = labels.detach().cpu().numpy() # same concept\n",
    "            \n",
    "        \n",
    "            # Ensure that the shapes are consistent before appending\n",
    "            if logits.shape[0] == label_ids.shape[0]:\n",
    "                predictions.append(logits)\n",
    "                true_vals.append(label_ids)\n",
    "            else:\n",
    "                print(f\"Shape mismatch: logits {logits.shape}, labels {label_ids.shape}\")\n",
    "    \n",
    "    loss_val_avg = loss_val_total / len(dataloader_val)\n",
    "    \n",
    "    # Debugging: Check the shapes before concatenation\n",
    "    # print(f\"Predictions shapes: {[pred.shape for pred in predictions]}\")\n",
    "    # print(f\"True values shapes: {[val.shape for val in true_vals]}\")\n",
    "    \n",
    "    predictions = np.concatenate(predictions, axis=0)\n",
    "    true_vals = np.concatenate(true_vals, axis=0)\n",
    "    \n",
    "    # Final shape check\n",
    "    # print(f\"Final shape of predictions: {predictions.shape}\")\n",
    "    # print(f\"Final shape of true values: {true_vals.shape}\")\n",
    "    \n",
    "    return loss_val_avg, predictions, true_vals\n",
    "\n",
    "\n"
   ]
  },
  {
   "cell_type": "code",
   "execution_count": 15,
   "metadata": {},
   "outputs": [],
   "source": [
    "# setting up performance metrics\n",
    "import numpy as np\n",
    "from sklearn.metrics import f1_score\n",
    "\n",
    "def f1_score_func(preds, labels):\n",
    "    assert preds.shape[0] == labels.shape[0], f\"Shape mismatch: preds {preds.shape}, labels {labels.shape}\"\n",
    "    \n",
    "    preds_flat = np.argmax(preds, axis=1).flatten()\n",
    "    labels_flat = labels.argmax(axis=1).flatten()\n",
    "    \n",
    "    # Check the shapes after flattening\n",
    "    # print(f\"Shapes after flattening - preds_flat: {preds_flat.shape}, labels_flat: {labels_flat.shape}\")\n",
    "    return f1_score(labels_flat, preds_flat, average = 'weighted')\n",
    "\n",
    "\n"
   ]
  },
  {
   "cell_type": "code",
   "execution_count": 16,
   "metadata": {},
   "outputs": [],
   "source": [
    "def accuracy_per_class(preds, labels):\n",
    "    label_dict_inverse = {v: k for k, v in type_of_emotion.items()}\n",
    "    \n",
    "    preds_flat = np.argmax(preds, axis=1).flatten()\n",
    "    labels_flat = labels.flatten()\n",
    "    \n",
    "    for label in np.unique(labels_flat):\n",
    "        y_preds = preds_flat[labels_flat==label]\n",
    "        y_true = labels_flat[labels_flat==label]\n",
    "        print(f'Class: {label_dict_inverse[label]}')\n",
    "        print(f'Accuracy:{len(y_preds[y_preds==label])}/{len(y_true)}\\n')"
   ]
  },
  {
   "cell_type": "markdown",
   "metadata": {},
   "source": [
    "https://pytorch.org/docs/stable/amp.html\n",
    "\n",
    "Libraries used for training:\n",
    "* tqdm: adding progress bars to loops so we can see training progress\n",
    "* GradScaler: dynamically adjust gradient scale before backward propagation. Ensuring that there is no overflow or underflow by rescalling them to similar as ROC curve (scale 0 to 1)  (https://youtu.be/IkeEadgSy6w)\n",
    "* Autocast: Automatic Mixed Precision (AMP) feature. Accelerate training by leveraging tensor cores on NVIDA GPUs. used around foward pass and loss calculation\n",
    "\n",
    "P.S. gradient scaler and autocast is just used when we want to utilize GPU for training\n",
    "Underflow:  value too small to represent or compute (close to zero)\n",
    "Overflow: values exceed numerical computations, causing memory leackage. can caused infinity\n",
    "\n",
    "underflow and overflow can cause numerical instabilities due numbers being too small and big, causing inaccurate computational."
   ]
  },
  {
   "cell_type": "code",
   "execution_count": 17,
   "metadata": {},
   "outputs": [
    {
     "data": {
      "application/vnd.jupyter.widget-view+json": {
       "model_id": "7f99b89f381b45eaa7e7217954193226",
       "version_major": 2,
       "version_minor": 0
      },
      "text/plain": [
       "  0%|          | 0/10 [00:00<?, ?it/s]"
      ]
     },
     "metadata": {},
     "output_type": "display_data"
    },
    {
     "data": {
      "application/vnd.jupyter.widget-view+json": {
       "model_id": "457dfc027f224f68a2783199c3f04962",
       "version_major": 2,
       "version_minor": 0
      },
      "text/plain": [
       "Epoch 1:   0%|          | 0/1357 [00:00<?, ?it/s]"
      ]
     },
     "metadata": {},
     "output_type": "display_data"
    }
   ],
   "source": [
    "import os\n",
    "from tqdm.notebook import tqdm\n",
    "from torch.cuda.amp import GradScaler, autocast\n",
    "\n",
    "\n",
    "\n",
    "#--------------------------------------------------------------------------------------------------------------------------------------\n",
    "\n",
    "epochs = 10\n",
    "\n",
    "epochs_to_save = [4, 6, 8, 10]\n",
    "\n",
    "save_dir = 'Models'\n",
    "if not os.path.exists(save_dir):\n",
    "    os.makedirs(save_dir)\n",
    "\n",
    "scaler = GradScaler()\n",
    "\n",
    "\n",
    "for epoch in tqdm(range(1, epochs+1)):\n",
    "    model.train()\n",
    "    loss_train_total = 0\n",
    "    \n",
    "    progress_bar = tqdm(dataloader_train, \n",
    "                        desc=f'Epoch {epoch}', \n",
    "                        leave=False, \n",
    "                        disable=False)\n",
    "    \n",
    "    for batch in progress_bar:\n",
    "        optimizer.zero_grad()\n",
    "        batch = tuple(b.to(device) for b in batch)\n",
    "        \n",
    "        input_ids = batch[0].to(device)\n",
    "        attention_mask = batch[1].to(device)\n",
    "        labels = batch[2].to(device)\n",
    "        \n",
    "        with autocast():\n",
    "            logits, probabilities = model(input_ids=input_ids, attention_mask=attention_mask)\n",
    "            loss = F.cross_entropy(logits, labels)\n",
    "        \n",
    "        # Scale gradients\n",
    "        scaler.scale(loss).backward()\n",
    "        # Update optimizer\n",
    "        scaler.step(optimizer)\n",
    "        scaler.update()\n",
    "       \n",
    "\n",
    "        loss_train_total += loss.item()\n",
    "        progress_bar.set_postfix({'training_loss': '{:.3f}'.format(loss.item()/len(batch))})\n",
    "    \n",
    "    \n",
    "    val_loss, predictions, true_vals = evaluate(dataloader_val)\n",
    "    scheduler.step(val_loss)\n",
    "\n",
    "    if epoch in epochs_to_save:\n",
    "        model_save_path = os.path.join(save_dir, f'BERT_ft_Epoch{epoch}.model')\n",
    "        torch.save(model.state_dict(), model_save_path)\n",
    "    \n",
    "    tqdm.write(f'\\nEpoch {epoch}')\n",
    "    \n",
    "    loss_train_avg = loss_train_total / len(dataloader_train)\n",
    "    tqdm.write(f'Training loss: {loss_train_avg}')\n",
    "\n",
    "\n",
    "    val_f1 = f1_score_func(predictions, true_vals)\n",
    "    tqdm.write(f'Validation loss: {val_loss}')\n",
    "    tqdm.write(f'F1 Score (weighted): {val_f1}')\n",
    "\n",
    "\n",
    "# Load the best model\n",
    "model.load_state_dict(torch.load('checkpoint.pt'))\n",
    "    \n"
   ]
  },
  {
   "cell_type": "code",
   "execution_count": null,
   "metadata": {},
   "outputs": [],
   "source": []
  }
 ],
 "metadata": {
  "kernelspec": {
   "display_name": "torch",
   "language": "python",
   "name": "python3"
  },
  "language_info": {
   "codemirror_mode": {
    "name": "ipython",
    "version": 3
   },
   "file_extension": ".py",
   "mimetype": "text/x-python",
   "name": "python",
   "nbconvert_exporter": "python",
   "pygments_lexer": "ipython3",
   "version": "3.9.19"
  }
 },
 "nbformat": 4,
 "nbformat_minor": 2
}
