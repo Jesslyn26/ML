{
 "cells": [
  {
   "cell_type": "markdown",
   "metadata": {},
   "source": [
    "# Data visualization\n",
    "## Purpose: to have a better understanding of the data that we'll be using \n",
    "## Dataset: GoEmotion from google\n",
    "### Description:\n",
    "* Dataset countains 28 emotions\n",
    "* Dataset has been \n",
    "* Has more than 1 label/class in one text fehfwuehfuefwu\n",
    "\n",
    "## Overview of data visualization: \n",
    "1. Bar Chat: understanding the data distribution (total count) with the labels/classes\n",
    "2. Box Plot: see the primary emotion \n"
   ]
  },
  {
   "cell_type": "code",
   "execution_count": 1,
   "metadata": {},
   "outputs": [],
   "source": [
    "## Data visualization\n",
    "## Purpose: to have a better understanding of the data that we'll be using \n",
    "## Dataset: GoEmotion from google"
   ]
  }
 ],
 "metadata": {
  "kernelspec": {
   "display_name": "torch_gpu_env",
   "language": "python",
   "name": "python3"
  },
  "language_info": {
   "codemirror_mode": {
    "name": "ipython",
    "version": 3
   },
   "file_extension": ".py",
   "mimetype": "text/x-python",
   "name": "python",
   "nbconvert_exporter": "python",
   "pygments_lexer": "ipython3",
   "version": "3.9.19"
  }
 },
 "nbformat": 4,
 "nbformat_minor": 2
}
